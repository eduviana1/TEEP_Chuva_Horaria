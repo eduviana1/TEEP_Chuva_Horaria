{
  "cells": [
    {
      "cell_type": "markdown",
      "metadata": {
        "id": "view-in-github",
        "colab_type": "text"
      },
      "source": [
        "<a href=\"https://colab.research.google.com/github/eduviana1/TEEP_Chuva_Horaria/blob/main/1_Baixando_Dados_CMORPH_(TEEP).ipynb\" target=\"_parent\"><img src=\"https://colab.research.google.com/assets/colab-badge.svg\" alt=\"Open In Colab\"/></a>"
      ]
    },
    {
      "cell_type": "markdown",
      "metadata": {
        "id": "aQnKkgVT9_en"
      },
      "source": [
        "##Trabalho Prático - Alerta Rio\n",
        "Boxplot da chuva horária (de 01h até 24h) <br>\n",
        "Considerado evento de chuva: Aquele em que a precipitação durar no mínimo 12h. Obs.: Mais de seis horas seguidas  sem registro de chuva, considera-se com término do evento. <br>\n",
        "Identificar os eventos de chuvas en todas as estações. <br>\n",
        "Evento de chuva de interesse: Aquele que acontecer em mais de 1/6 das estações. <br>\n",
        "\n"
      ]
    },
    {
      "cell_type": "code",
      "execution_count": null,
      "metadata": {
        "colab": {
          "base_uri": "https://localhost:8080/"
        },
        "id": "0slwEesZunfQ",
        "outputId": "7425edad-00e7-498f-b8aa-b042116a4740"
      },
      "outputs": [
        {
          "output_type": "stream",
          "name": "stdout",
          "text": [
            "Drive already mounted at /content/drive; to attempt to forcibly remount, call drive.mount(\"/content/drive\", force_remount=True).\n"
          ]
        }
      ],
      "source": [
        "import datetime as dt\n",
        "import pandas as pd\n",
        "import os\n",
        "import requests\n",
        "from bs4 import BeautifulSoup\n",
        "from warnings import filterwarnings as fw\n",
        "fw('ignore')"
      ]
    },
    {
      "cell_type": "code",
      "source": [
        "# Criando intervalo de data por dia (datas presentes na planilha do alerta rio)\n",
        "intervalo_anos = pd.date_range(start = '1997-01-01', end = '2024-12-31', freq = 'd')\n",
        "\n",
        "# Criando pasta para salvar os arquivos\n",
        "diretorio = os.getcwd() # Diretorio atual onde o código está sendo executado\n",
        "pasta_CMORPH = os.path.join(diretorio, 'Dados CMORPH')\n",
        "os.makedirs(pasta_CMORPH, exist_ok = True) # Cria uma pasta chamada Dados CMORPH\n",
        "\n",
        "\n",
        "for data in intervalo_anos:\n",
        "  ano = data.strftime(\"%Y\")\n",
        "  mes = data.strftime(\"%m\")\n",
        "  dia = data.strftime(\"%d\")\n",
        "\n",
        "  url = f\"https://www.ncei.noaa.gov/data/cmorph-high-resolution-global-precipitation-estimates/archive/hourly/0.25deg/{ano}/{mes}/{dia}\"\n",
        "  response = requests.get(url) # Verifica se o link existe e gera um codigo em html\n",
        "  soup = BeautifulSoup(response.text, \"html.parser\") # acessa o codigo html\n",
        "  for link in soup.find_all(\"a\"): # busca um hiperlink dentro da url (pra isso, utiliza-se 'a')\n",
        "    # Verificando se o hiperlink terminar com '.tar' (sendo um arquivo de download)\n",
        "    if link.get('href').endswith(\".tar\") and link.get('href') != None: # Verifica também se não é nulo\n",
        "\n",
        "      url_download = url+'/'+link.get('href')\n",
        "      response = requests.get(url_download, stream=True)\n",
        "      caminho_salvar_arquivo = pasta_CMORPH + '/' + f'/{ano}_{mes}_{dia}'\n",
        "\n",
        "      with open(caminho_salvar_arquivo, 'wb') as arquivo:\n",
        "        for chunk in response.iter_content(chunk_size=8192):\n",
        "          arquivo.write(chunk)\n"
      ],
      "metadata": {
        "id": "7_-K2ywCXmcs"
      },
      "execution_count": null,
      "outputs": []
    }
  ],
  "metadata": {
    "colab": {
      "provenance": [],
      "include_colab_link": true
    },
    "kernelspec": {
      "display_name": "Python 3",
      "name": "python3"
    },
    "language_info": {
      "name": "python"
    }
  },
  "nbformat": 4,
  "nbformat_minor": 0
}