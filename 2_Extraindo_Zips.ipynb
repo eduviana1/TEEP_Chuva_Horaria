{
  "cells": [
    {
      "cell_type": "markdown",
      "metadata": {
        "id": "view-in-github",
        "colab_type": "text"
      },
      "source": [
        "<a href=\"https://colab.research.google.com/github/eduviana1/TEEP_Chuva_Horaria/blob/main/2_Extraindo_Zips.ipynb\" target=\"_parent\"><img src=\"https://colab.research.google.com/assets/colab-badge.svg\" alt=\"Open In Colab\"/></a>"
      ]
    },
    {
      "cell_type": "code",
      "execution_count": null,
      "id": "8d5ca49e-16c9-479e-84b3-e0a941630213",
      "metadata": {
        "id": "8d5ca49e-16c9-479e-84b3-e0a941630213"
      },
      "outputs": [],
      "source": [
        "import tarfile\n",
        "import os\n",
        "import glob\n",
        "import re\n",
        "from pathlib import Path\n",
        "import datetime as dt\n",
        "from IPython.display import clear_output # limpar a barra de progresso"
      ]
    },
    {
      "cell_type": "markdown",
      "id": "1f689e1c-ad5e-4d86-a824-fc4ba741fcb8",
      "metadata": {
        "id": "1f689e1c-ad5e-4d86-a824-fc4ba741fcb8"
      },
      "source": [
        "# Extraindo arquivos (.tar)"
      ]
    },
    {
      "cell_type": "code",
      "execution_count": null,
      "id": "755f5566-ef4f-4972-ae71-6e5ed9319d0b",
      "metadata": {
        "jp-MarkdownHeadingCollapsed": true,
        "scrolled": true,
        "id": "755f5566-ef4f-4972-ae71-6e5ed9319d0b"
      },
      "outputs": [],
      "source": [
        "# Caminho para os arquivos .tar\n",
        "caminho_tar = 'c:/users/edu16/Documents/TEEP Grupo 4/Dados CMORPH'\n",
        "\n",
        "# Pasta onde os arquivos serão extraídos\n",
        "diretorio_destino = f'c:/users/edu16/Documents/TEEP Grupo 4/CMORPH extraido'\n",
        "\n",
        "# Garante que o diretório de destino existe\n",
        "os.makedirs(diretorio_destino, exist_ok=True)\n",
        "# listando arquivos tar\n",
        "arquivos_tar =  glob.glob('c:/users/edu16/Documents/TEEP Grupo 4/Dados CMORPH/*.tar')\n",
        "\n",
        "data_parada = dt.datetime.strptime('20131202', '%Y%m%d')\n",
        "# Abre e extrai o conteúdo\n",
        "for arquivo in arquivos_tar:\n",
        "    arquivo = arquivo.replace('\\\\', '/')\n",
        "    # Transforma data de arquivo em datetime\n",
        "    data_arquivo = dt.datetime.strptime(os.path.basename(arquivo).removesuffix('.tar'), '%Y_%m_%d')\n",
        "    # Só baixa os arquivos que são de datas posteriores ao arquivo em que o código parou\n",
        "    if data_arquivo >= data_parada:\n",
        "        with tarfile.open(arquivo, 'r') as tar_ref:\n",
        "            tar_ref.extractall(diretorio_destino)\n",
        "        clear_output(wait = True) #Limpa o print anterior\n",
        "        print(f\"arquivo:'{arquivo}' extraido com sucesso!\")\n"
      ]
    },
    {
      "cell_type": "markdown",
      "id": "1a1715da-66f6-413b-9326-e8498786cbf7",
      "metadata": {
        "jp-MarkdownHeadingCollapsed": true,
        "id": "1a1715da-66f6-413b-9326-e8498786cbf7"
      },
      "source": [
        "# Renomeando arquivos para o formato ano_mes_dia_hora.nc"
      ]
    },
    {
      "cell_type": "code",
      "execution_count": null,
      "id": "29af41ac-3030-4aa2-9955-3ec5996fe173",
      "metadata": {
        "jp-MarkdownHeadingCollapsed": true,
        "id": "29af41ac-3030-4aa2-9955-3ec5996fe173",
        "outputId": "482d7b22-5e6e-4801-cb1a-f77f01fc8e14"
      },
      "outputs": [
        {
          "data": {
            "text/plain": [
              "'c:/users/edu16/Documents/TEEP Grupo 4/CMORPH extraido\\\\1998_01_01_00.nc'"
            ]
          },
          "execution_count": 130,
          "metadata": {},
          "output_type": "execute_result"
        }
      ],
      "source": [
        "# Renomeando arquivos para facilitar o nome\n",
        "arquivos_nc = glob.glob('c:/users/edu16/Documents/TEEP Grupo 4/CMORPH extraido/*.nc')\n",
        "arquivos_nc[0] #CMORPH_V1.0_ADJ_0.25deg-HLY_1998010100.nc (nome antigo)"
      ]
    },
    {
      "cell_type": "code",
      "execution_count": null,
      "id": "9d4518c7-d3bb-42bc-8d88-e56258b97652",
      "metadata": {
        "jp-MarkdownHeadingCollapsed": true,
        "id": "9d4518c7-d3bb-42bc-8d88-e56258b97652"
      },
      "outputs": [],
      "source": [
        "for arquivo in arquivos_nc:\n",
        "    # Buscando Padrão\n",
        "    padrao = r'\\d{10}'\n",
        "    # Encontrando a data do arquivo\n",
        "    data_arquivo = re.search(padrao,arquivo).group()\n",
        "    # separando ano, mes, dia e hora no nome do arquivo com '_'\n",
        "    data_arquivo = data_arquivo[:4]+'_'+data_arquivo[4:6]+'_'+data_arquivo[6:8]+'_'+data_arquivo[8:]\n",
        "    # Renomeando arquivo para novo formato ano_mes_dia_hora.nc\n",
        "    os.rename(arquivo, os.path.dirname(arquivo)+'/'+data_arquivo+'.nc')"
      ]
    },
    {
      "cell_type": "code",
      "execution_count": null,
      "id": "5f220bbf-d96f-4d4c-8586-a29b5fb4572c",
      "metadata": {
        "id": "5f220bbf-d96f-4d4c-8586-a29b5fb4572c",
        "outputId": "0a1494c1-78f1-4921-8614-f89878bbda39"
      },
      "outputs": [
        {
          "name": "stdout",
          "output_type": "stream",
          "text": [
            "['c:/users/edu16/Documents/TEEP Grupo 4/CMORPH extraido\\\\1998_01_01_00.nc', 'c:/users/edu16/Documents/TEEP Grupo 4/CMORPH extraido\\\\1998_01_01_01.nc', 'c:/users/edu16/Documents/TEEP Grupo 4/CMORPH extraido\\\\1998_01_01_02.nc', 'c:/users/edu16/Documents/TEEP Grupo 4/CMORPH extraido\\\\1998_01_01_03.nc', 'c:/users/edu16/Documents/TEEP Grupo 4/CMORPH extraido\\\\1998_01_01_04.nc']\n"
          ]
        }
      ],
      "source": [
        "arquivos_nc = glob.glob('c:/users/edu16/Documents/TEEP Grupo 4/CMORPH extraido/*.nc')\n",
        "print(arquivos_nc[:5])"
      ]
    }
  ],
  "metadata": {
    "kernelspec": {
      "display_name": "Python [conda env:CienciaDeDados] *",
      "language": "python",
      "name": "conda-env-CienciaDeDados-py"
    },
    "language_info": {
      "codemirror_mode": {
        "name": "ipython",
        "version": 3
      },
      "file_extension": ".py",
      "mimetype": "text/x-python",
      "name": "python",
      "nbconvert_exporter": "python",
      "pygments_lexer": "ipython3",
      "version": "3.12.6"
    },
    "colab": {
      "provenance": [],
      "include_colab_link": true
    }
  },
  "nbformat": 4,
  "nbformat_minor": 5
}